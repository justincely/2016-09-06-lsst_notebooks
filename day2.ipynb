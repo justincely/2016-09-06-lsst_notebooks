{
 "cells": [
  {
   "cell_type": "code",
   "execution_count": 1,
   "metadata": {
    "collapsed": true
   },
   "outputs": [],
   "source": [
    "thing = (1, 2, 3, 4)  \n",
    "# thing = list(1, 2, 3, 4)"
   ]
  },
  {
   "cell_type": "code",
   "execution_count": 3,
   "metadata": {
    "collapsed": false
   },
   "outputs": [
    {
     "data": {
      "text/plain": [
       "tuple"
      ]
     },
     "execution_count": 3,
     "metadata": {},
     "output_type": "execute_result"
    }
   ],
   "source": [
    "type(thing)"
   ]
  },
  {
   "cell_type": "code",
   "execution_count": 4,
   "metadata": {
    "collapsed": true
   },
   "outputs": [],
   "source": [
    "other = [1, 2, 3, 4, 'happy']"
   ]
  },
  {
   "cell_type": "code",
   "execution_count": 5,
   "metadata": {
    "collapsed": false
   },
   "outputs": [
    {
     "data": {
      "text/plain": [
       "list"
      ]
     },
     "execution_count": 5,
     "metadata": {},
     "output_type": "execute_result"
    }
   ],
   "source": [
    "type(other)"
   ]
  },
  {
   "cell_type": "code",
   "execution_count": 6,
   "metadata": {
    "collapsed": true
   },
   "outputs": [],
   "source": [
    "a = {1, 2, 3,3, 4, 5, 6}"
   ]
  },
  {
   "cell_type": "code",
   "execution_count": 7,
   "metadata": {
    "collapsed": false
   },
   "outputs": [
    {
     "data": {
      "text/plain": [
       "set"
      ]
     },
     "execution_count": 7,
     "metadata": {},
     "output_type": "execute_result"
    }
   ],
   "source": [
    "type(a)"
   ]
  },
  {
   "cell_type": "code",
   "execution_count": 9,
   "metadata": {
    "collapsed": false
   },
   "outputs": [
    {
     "data": {
      "text/plain": [
       "[1, 2, 3, 4]"
      ]
     },
     "execution_count": 9,
     "metadata": {},
     "output_type": "execute_result"
    }
   ],
   "source": [
    "list((1, 2, 3, 4))"
   ]
  },
  {
   "cell_type": "markdown",
   "metadata": {},
   "source": [
    "### Dictionaries"
   ]
  },
  {
   "cell_type": "code",
   "execution_count": 10,
   "metadata": {
    "collapsed": true
   },
   "outputs": [],
   "source": [
    "my_dict = {'name': 'justin', 'other_guy': 'john'}"
   ]
  },
  {
   "cell_type": "code",
   "execution_count": 14,
   "metadata": {
    "collapsed": true
   },
   "outputs": [],
   "source": [
    "my_set = {'name', 'justin', 'other_guy', 'john'}"
   ]
  },
  {
   "cell_type": "code",
   "execution_count": 11,
   "metadata": {
    "collapsed": false
   },
   "outputs": [
    {
     "data": {
      "text/plain": [
       "dict"
      ]
     },
     "execution_count": 11,
     "metadata": {},
     "output_type": "execute_result"
    }
   ],
   "source": [
    "type(my_dict)"
   ]
  },
  {
   "cell_type": "code",
   "execution_count": 15,
   "metadata": {
    "collapsed": false
   },
   "outputs": [
    {
     "data": {
      "text/plain": [
       "set"
      ]
     },
     "execution_count": 15,
     "metadata": {},
     "output_type": "execute_result"
    }
   ],
   "source": [
    "type(my_set)"
   ]
  },
  {
   "cell_type": "code",
   "execution_count": 12,
   "metadata": {
    "collapsed": false
   },
   "outputs": [
    {
     "data": {
      "text/plain": [
       "'justin'"
      ]
     },
     "execution_count": 12,
     "metadata": {},
     "output_type": "execute_result"
    }
   ],
   "source": [
    "my_dict['name']"
   ]
  },
  {
   "cell_type": "code",
   "execution_count": 13,
   "metadata": {
    "collapsed": false
   },
   "outputs": [
    {
     "data": {
      "text/plain": [
       "'john'"
      ]
     },
     "execution_count": 13,
     "metadata": {},
     "output_type": "execute_result"
    }
   ],
   "source": [
    "my_dict['other_guy']"
   ]
  },
  {
   "cell_type": "code",
   "execution_count": 16,
   "metadata": {
    "collapsed": false
   },
   "outputs": [
    {
     "data": {
      "text/plain": [
       "dict"
      ]
     },
     "execution_count": 16,
     "metadata": {},
     "output_type": "execute_result"
    }
   ],
   "source": [
    "type({})"
   ]
  },
  {
   "cell_type": "code",
   "execution_count": 17,
   "metadata": {
    "collapsed": true
   },
   "outputs": [],
   "source": [
    "empty = set()"
   ]
  },
  {
   "cell_type": "code",
   "execution_count": 18,
   "metadata": {
    "collapsed": false
   },
   "outputs": [
    {
     "data": {
      "text/plain": [
       "set"
      ]
     },
     "execution_count": 18,
     "metadata": {},
     "output_type": "execute_result"
    }
   ],
   "source": [
    "type(empty)"
   ]
  },
  {
   "cell_type": "code",
   "execution_count": 19,
   "metadata": {
    "collapsed": true
   },
   "outputs": [],
   "source": [
    "new_dict = {}"
   ]
  },
  {
   "cell_type": "code",
   "execution_count": 20,
   "metadata": {
    "collapsed": true
   },
   "outputs": [],
   "source": [
    "new_dict['name'] = 'justin'"
   ]
  },
  {
   "cell_type": "code",
   "execution_count": 21,
   "metadata": {
    "collapsed": false
   },
   "outputs": [
    {
     "name": "stdout",
     "output_type": "stream",
     "text": [
      "{'name': 'justin'}\n"
     ]
    }
   ],
   "source": [
    "print(new_dict)"
   ]
  },
  {
   "cell_type": "code",
   "execution_count": 24,
   "metadata": {
    "collapsed": false
   },
   "outputs": [
    {
     "name": "stdout",
     "output_type": "stream",
     "text": [
      "{0: [1, 2, 3, 4, 5], 'name': [1, 2, 3, 4, 5]}\n"
     ]
    }
   ],
   "source": [
    "new_dict[0] = [1, 2, 3, 4, 5]\n",
    "print(new_dict)"
   ]
  },
  {
   "cell_type": "code",
   "execution_count": 25,
   "metadata": {
    "collapsed": true
   },
   "outputs": [],
   "source": [
    "new_dict[5] = [8, 7, 5, 4]"
   ]
  },
  {
   "cell_type": "markdown",
   "metadata": {},
   "source": [
    "### Exercies\n",
    "create a dictionary where keys are planets and values are lists of their moons."
   ]
  },
  {
   "cell_type": "code",
   "execution_count": 30,
   "metadata": {
    "collapsed": true
   },
   "outputs": [],
   "source": [
    "planets = {'pluto': ['nix', 'hydra', 'charon'],\n",
    "           'earth': ['moon'],\n",
    "           'mercury': [],\n",
    "           'jupiter': ['moon' + str(i) for i in range(67)]}"
   ]
  },
  {
   "cell_type": "code",
   "execution_count": 31,
   "metadata": {
    "collapsed": false,
    "scrolled": true
   },
   "outputs": [
    {
     "data": {
      "text/plain": [
       "{'earth': ['moon'],\n",
       " 'jupiter': ['moon0',\n",
       "  'moon1',\n",
       "  'moon2',\n",
       "  'moon3',\n",
       "  'moon4',\n",
       "  'moon5',\n",
       "  'moon6',\n",
       "  'moon7',\n",
       "  'moon8',\n",
       "  'moon9',\n",
       "  'moon10',\n",
       "  'moon11',\n",
       "  'moon12',\n",
       "  'moon13',\n",
       "  'moon14',\n",
       "  'moon15',\n",
       "  'moon16',\n",
       "  'moon17',\n",
       "  'moon18',\n",
       "  'moon19',\n",
       "  'moon20',\n",
       "  'moon21',\n",
       "  'moon22',\n",
       "  'moon23',\n",
       "  'moon24',\n",
       "  'moon25',\n",
       "  'moon26',\n",
       "  'moon27',\n",
       "  'moon28',\n",
       "  'moon29',\n",
       "  'moon30',\n",
       "  'moon31',\n",
       "  'moon32',\n",
       "  'moon33',\n",
       "  'moon34',\n",
       "  'moon35',\n",
       "  'moon36',\n",
       "  'moon37',\n",
       "  'moon38',\n",
       "  'moon39',\n",
       "  'moon40',\n",
       "  'moon41',\n",
       "  'moon42',\n",
       "  'moon43',\n",
       "  'moon44',\n",
       "  'moon45',\n",
       "  'moon46',\n",
       "  'moon47',\n",
       "  'moon48',\n",
       "  'moon49',\n",
       "  'moon50',\n",
       "  'moon51',\n",
       "  'moon52',\n",
       "  'moon53',\n",
       "  'moon54',\n",
       "  'moon55',\n",
       "  'moon56',\n",
       "  'moon57',\n",
       "  'moon58',\n",
       "  'moon59',\n",
       "  'moon60',\n",
       "  'moon61',\n",
       "  'moon62',\n",
       "  'moon63',\n",
       "  'moon64',\n",
       "  'moon65',\n",
       "  'moon66'],\n",
       " 'mercury': [],\n",
       " 'pluto': ['nix', 'hydra', 'charon']}"
      ]
     },
     "execution_count": 31,
     "metadata": {},
     "output_type": "execute_result"
    }
   ],
   "source": [
    "planets"
   ]
  },
  {
   "cell_type": "code",
   "execution_count": 34,
   "metadata": {
    "collapsed": false
   },
   "outputs": [
    {
     "name": "stdout",
     "output_type": "stream",
     "text": [
      "{'earth': ['moon'], 'jupiter': ['moon0', 'moon1', 'moon2', 'moon3', 'moon4', 'moon5', 'moon6', 'moon7', 'moon8', 'moon9', 'moon10', 'moon11', 'moon12', 'moon13', 'moon14', 'moon15', 'moon16', 'moon17', 'moon18', 'moon19', 'moon20', 'moon21', 'moon22', 'moon23', 'moon24', 'moon25', 'moon26', 'moon27', 'moon28', 'moon29', 'moon30', 'moon31', 'moon32', 'moon33', 'moon34', 'moon35', 'moon36', 'moon37', 'moon38', 'moon39', 'moon40', 'moon41', 'moon42', 'moon43', 'moon44', 'moon45', 'moon46', 'moon47', 'moon48', 'moon49', 'moon50', 'moon51', 'moon52', 'moon53', 'moon54', 'moon55', 'moon56', 'moon57', 'moon58', 'moon59', 'moon60', 'moon61', 'moon62', 'moon63', 'moon64', 'moon65', 'moon66'], 'mercury': [], 'pluto': ['nix', 'hydra', 'charon']}\n"
     ]
    }
   ],
   "source": [
    "print(planets)"
   ]
  },
  {
   "cell_type": "code",
   "execution_count": 35,
   "metadata": {
    "collapsed": false
   },
   "outputs": [
    {
     "data": {
      "text/plain": [
       "['__class__',\n",
       " '__contains__',\n",
       " '__delattr__',\n",
       " '__delitem__',\n",
       " '__dir__',\n",
       " '__doc__',\n",
       " '__eq__',\n",
       " '__format__',\n",
       " '__ge__',\n",
       " '__getattribute__',\n",
       " '__getitem__',\n",
       " '__gt__',\n",
       " '__hash__',\n",
       " '__init__',\n",
       " '__iter__',\n",
       " '__le__',\n",
       " '__len__',\n",
       " '__lt__',\n",
       " '__ne__',\n",
       " '__new__',\n",
       " '__reduce__',\n",
       " '__reduce_ex__',\n",
       " '__repr__',\n",
       " '__setattr__',\n",
       " '__setitem__',\n",
       " '__sizeof__',\n",
       " '__str__',\n",
       " '__subclasshook__',\n",
       " 'clear',\n",
       " 'copy',\n",
       " 'fromkeys',\n",
       " 'get',\n",
       " 'items',\n",
       " 'keys',\n",
       " 'pop',\n",
       " 'popitem',\n",
       " 'setdefault',\n",
       " 'update',\n",
       " 'values']"
      ]
     },
     "execution_count": 35,
     "metadata": {},
     "output_type": "execute_result"
    }
   ],
   "source": [
    "dir(planets)"
   ]
  },
  {
   "cell_type": "code",
   "execution_count": 36,
   "metadata": {
    "collapsed": false
   },
   "outputs": [
    {
     "data": {
      "text/plain": [
       "dict_keys(['earth', 'jupiter', 'mercury', 'pluto'])"
      ]
     },
     "execution_count": 36,
     "metadata": {},
     "output_type": "execute_result"
    }
   ],
   "source": [
    "planets.keys()"
   ]
  },
  {
   "cell_type": "code",
   "execution_count": 37,
   "metadata": {
    "collapsed": false
   },
   "outputs": [
    {
     "data": {
      "text/plain": [
       "dict_values([['moon'], ['moon0', 'moon1', 'moon2', 'moon3', 'moon4', 'moon5', 'moon6', 'moon7', 'moon8', 'moon9', 'moon10', 'moon11', 'moon12', 'moon13', 'moon14', 'moon15', 'moon16', 'moon17', 'moon18', 'moon19', 'moon20', 'moon21', 'moon22', 'moon23', 'moon24', 'moon25', 'moon26', 'moon27', 'moon28', 'moon29', 'moon30', 'moon31', 'moon32', 'moon33', 'moon34', 'moon35', 'moon36', 'moon37', 'moon38', 'moon39', 'moon40', 'moon41', 'moon42', 'moon43', 'moon44', 'moon45', 'moon46', 'moon47', 'moon48', 'moon49', 'moon50', 'moon51', 'moon52', 'moon53', 'moon54', 'moon55', 'moon56', 'moon57', 'moon58', 'moon59', 'moon60', 'moon61', 'moon62', 'moon63', 'moon64', 'moon65', 'moon66'], [], ['nix', 'hydra', 'charon']])"
      ]
     },
     "execution_count": 37,
     "metadata": {},
     "output_type": "execute_result"
    }
   ],
   "source": [
    "planets.values()"
   ]
  },
  {
   "cell_type": "markdown",
   "metadata": {},
   "source": [
    "### Looping"
   ]
  },
  {
   "cell_type": "code",
   "execution_count": null,
   "metadata": {
    "collapsed": true
   },
   "outputs": [],
   "source": [
    "for item in iterable:\n",
    "    # do something\n",
    "    # do something else\n",
    "    # do many things\n",
    "    \n",
    "#outside of loop"
   ]
  },
  {
   "cell_type": "code",
   "execution_count": 39,
   "metadata": {
    "collapsed": false
   },
   "outputs": [
    {
     "name": "stdout",
     "output_type": "stream",
     "text": [
      "j\n",
      "still in the loop\n",
      "u\n",
      "still in the loop\n",
      "s\n",
      "still in the loop\n",
      "t\n",
      "still in the loop\n",
      "i\n",
      "still in the loop\n",
      "n\n",
      "still in the loop\n",
      " \n",
      "still in the loop\n",
      "c\n",
      "still in the loop\n",
      "h\n",
      "still in the loop\n",
      "a\n",
      "still in the loop\n",
      "r\n",
      "still in the loop\n",
      "l\n",
      "still in the loop\n",
      "e\n",
      "still in the loop\n",
      "s\n",
      "still in the loop\n",
      " \n",
      "still in the loop\n",
      "e\n",
      "still in the loop\n",
      "l\n",
      "still in the loop\n",
      "y\n",
      "still in the loop\n",
      "all done\n"
     ]
    }
   ],
   "source": [
    "my_name = \"justin charles ely\"\n",
    "\n",
    "for character in my_name:\n",
    "    print(character)\n",
    "    \n",
    "    print(\"still in the loop\")\n",
    "    \n",
    "print(\"all done\")"
   ]
  },
  {
   "cell_type": "markdown",
   "metadata": {},
   "source": [
    "## try to loop over all the data types we just learned\n",
    "\n",
    "string, list, tuple, set, dictionary, array"
   ]
  },
  {
   "cell_type": "code",
   "execution_count": 41,
   "metadata": {
    "collapsed": false
   },
   "outputs": [],
   "source": [
    "import numpy as np"
   ]
  },
  {
   "cell_type": "code",
   "execution_count": 60,
   "metadata": {
    "collapsed": false
   },
   "outputs": [],
   "source": [
    "my_array = np.array([[1, 2, 3], [4, 5, 6]])"
   ]
  },
  {
   "cell_type": "code",
   "execution_count": 64,
   "metadata": {
    "collapsed": false
   },
   "outputs": [
    {
     "name": "stdout",
     "output_type": "stream",
     "text": [
      "The rownumber is 0 and the values are [1 2 3]\n",
      "The rownumber is 1 and the values are [4 5 6]\n"
     ]
    }
   ],
   "source": [
    "for i, row in enumerate(my_array):\n",
    "    print(\"The rownumber is {} and the values are {}\".format(i, row))"
   ]
  },
  {
   "cell_type": "code",
   "execution_count": 52,
   "metadata": {
    "collapsed": false
   },
   "outputs": [
    {
     "name": "stdout",
     "output_type": "stream",
     "text": [
      "1\n",
      "2\n",
      "3\n",
      "4\n",
      "5\n",
      "6\n"
     ]
    }
   ],
   "source": [
    "for item in my_array.flatten():\n",
    "    print(item)"
   ]
  },
  {
   "cell_type": "code",
   "execution_count": 56,
   "metadata": {
    "collapsed": false
   },
   "outputs": [],
   "source": [
    "my_array = np.ones((100, 100, 100))"
   ]
  },
  {
   "cell_type": "code",
   "execution_count": 57,
   "metadata": {
    "collapsed": false
   },
   "outputs": [
    {
     "name": "stdout",
     "output_type": "stream",
     "text": [
      "CPU times: user 4.6 s, sys: 8 ms, total: 4.6 s\n",
      "Wall time: 4.88 s\n"
     ]
    }
   ],
   "source": [
    "%%time\n",
    "cnt = 0\n",
    "for plane in my_array:\n",
    "    for row in plane:\n",
    "        for val in row:\n",
    "            cnt = cnt + val"
   ]
  },
  {
   "cell_type": "code",
   "execution_count": 59,
   "metadata": {
    "collapsed": false
   },
   "outputs": [
    {
     "name": "stdout",
     "output_type": "stream",
     "text": [
      "CPU times: user 4 ms, sys: 8 ms, total: 12 ms\n",
      "Wall time: 35.9 ms\n"
     ]
    },
    {
     "data": {
      "text/plain": [
       "1000000.0"
      ]
     },
     "execution_count": 59,
     "metadata": {},
     "output_type": "execute_result"
    }
   ],
   "source": [
    "%%time\n",
    "my_array.sum()"
   ]
  },
  {
   "cell_type": "code",
   "execution_count": null,
   "metadata": {
    "collapsed": true
   },
   "outputs": [],
   "source": []
  },
  {
   "cell_type": "code",
   "execution_count": 67,
   "metadata": {
    "collapsed": false
   },
   "outputs": [
    {
     "name": "stdout",
     "output_type": "stream",
     "text": [
      "earth ['moon']\n",
      "jupiter ['moon0', 'moon1', 'moon2', 'moon3', 'moon4', 'moon5', 'moon6', 'moon7', 'moon8', 'moon9', 'moon10', 'moon11', 'moon12', 'moon13', 'moon14', 'moon15', 'moon16', 'moon17', 'moon18', 'moon19', 'moon20', 'moon21', 'moon22', 'moon23', 'moon24', 'moon25', 'moon26', 'moon27', 'moon28', 'moon29', 'moon30', 'moon31', 'moon32', 'moon33', 'moon34', 'moon35', 'moon36', 'moon37', 'moon38', 'moon39', 'moon40', 'moon41', 'moon42', 'moon43', 'moon44', 'moon45', 'moon46', 'moon47', 'moon48', 'moon49', 'moon50', 'moon51', 'moon52', 'moon53', 'moon54', 'moon55', 'moon56', 'moon57', 'moon58', 'moon59', 'moon60', 'moon61', 'moon62', 'moon63', 'moon64', 'moon65', 'moon66']\n",
      "mercury []\n",
      "pluto ['nix', 'hydra', 'charon']\n"
     ]
    }
   ],
   "source": [
    "for item in planets:\n",
    "    print(item, planets[item])"
   ]
  },
  {
   "cell_type": "code",
   "execution_count": 68,
   "metadata": {
    "collapsed": false
   },
   "outputs": [
    {
     "name": "stdout",
     "output_type": "stream",
     "text": [
      "['moon']\n",
      "['moon0', 'moon1', 'moon2', 'moon3', 'moon4', 'moon5', 'moon6', 'moon7', 'moon8', 'moon9', 'moon10', 'moon11', 'moon12', 'moon13', 'moon14', 'moon15', 'moon16', 'moon17', 'moon18', 'moon19', 'moon20', 'moon21', 'moon22', 'moon23', 'moon24', 'moon25', 'moon26', 'moon27', 'moon28', 'moon29', 'moon30', 'moon31', 'moon32', 'moon33', 'moon34', 'moon35', 'moon36', 'moon37', 'moon38', 'moon39', 'moon40', 'moon41', 'moon42', 'moon43', 'moon44', 'moon45', 'moon46', 'moon47', 'moon48', 'moon49', 'moon50', 'moon51', 'moon52', 'moon53', 'moon54', 'moon55', 'moon56', 'moon57', 'moon58', 'moon59', 'moon60', 'moon61', 'moon62', 'moon63', 'moon64', 'moon65', 'moon66']\n",
      "[]\n",
      "['nix', 'hydra', 'charon']\n"
     ]
    }
   ],
   "source": [
    "for item in planets.values():\n",
    "    print(item)"
   ]
  },
  {
   "cell_type": "code",
   "execution_count": 69,
   "metadata": {
    "collapsed": false
   },
   "outputs": [
    {
     "name": "stdout",
     "output_type": "stream",
     "text": [
      "earth ['moon']\n",
      "jupiter ['moon0', 'moon1', 'moon2', 'moon3', 'moon4', 'moon5', 'moon6', 'moon7', 'moon8', 'moon9', 'moon10', 'moon11', 'moon12', 'moon13', 'moon14', 'moon15', 'moon16', 'moon17', 'moon18', 'moon19', 'moon20', 'moon21', 'moon22', 'moon23', 'moon24', 'moon25', 'moon26', 'moon27', 'moon28', 'moon29', 'moon30', 'moon31', 'moon32', 'moon33', 'moon34', 'moon35', 'moon36', 'moon37', 'moon38', 'moon39', 'moon40', 'moon41', 'moon42', 'moon43', 'moon44', 'moon45', 'moon46', 'moon47', 'moon48', 'moon49', 'moon50', 'moon51', 'moon52', 'moon53', 'moon54', 'moon55', 'moon56', 'moon57', 'moon58', 'moon59', 'moon60', 'moon61', 'moon62', 'moon63', 'moon64', 'moon65', 'moon66']\n",
      "mercury []\n",
      "pluto ['nix', 'hydra', 'charon']\n"
     ]
    }
   ],
   "source": [
    "for key, val in planets.items():\n",
    "    print(key, val)"
   ]
  },
  {
   "cell_type": "code",
   "execution_count": 70,
   "metadata": {
    "collapsed": false
   },
   "outputs": [
    {
     "data": {
      "text/plain": [
       "dict_keys(['earth', 'jupiter', 'mercury', 'pluto'])"
      ]
     },
     "execution_count": 70,
     "metadata": {},
     "output_type": "execute_result"
    }
   ],
   "source": [
    "planets.keys()"
   ]
  },
  {
   "cell_type": "code",
   "execution_count": 71,
   "metadata": {
    "collapsed": false
   },
   "outputs": [
    {
     "ename": "KeyError",
     "evalue": "'mars'",
     "output_type": "error",
     "traceback": [
      "\u001b[1;31m---------------------------------------------------------------------------\u001b[0m",
      "\u001b[1;31mKeyError\u001b[0m                                  Traceback (most recent call last)",
      "\u001b[1;32m<ipython-input-71-2c320d7d0c4d>\u001b[0m in \u001b[0;36m<module>\u001b[1;34m()\u001b[0m\n\u001b[1;32m----> 1\u001b[1;33m \u001b[0mplanets\u001b[0m\u001b[1;33m[\u001b[0m\u001b[1;34m'mars'\u001b[0m\u001b[1;33m]\u001b[0m\u001b[1;33m\u001b[0m\u001b[0m\n\u001b[0m",
      "\u001b[1;31mKeyError\u001b[0m: 'mars'"
     ]
    }
   ],
   "source": [
    "planets['mars']"
   ]
  },
  {
   "cell_type": "code",
   "execution_count": null,
   "metadata": {
    "collapsed": true
   },
   "outputs": [],
   "source": []
  },
  {
   "cell_type": "code",
   "execution_count": null,
   "metadata": {
    "collapsed": true
   },
   "outputs": [],
   "source": []
  },
  {
   "cell_type": "markdown",
   "metadata": {},
   "source": [
    "### conditions"
   ]
  },
  {
   "cell_type": "code",
   "execution_count": 72,
   "metadata": {
    "collapsed": false
   },
   "outputs": [
    {
     "data": {
      "text/plain": [
       "True"
      ]
     },
     "execution_count": 72,
     "metadata": {},
     "output_type": "execute_result"
    }
   ],
   "source": [
    "True"
   ]
  },
  {
   "cell_type": "code",
   "execution_count": 73,
   "metadata": {
    "collapsed": false
   },
   "outputs": [
    {
     "data": {
      "text/plain": [
       "False"
      ]
     },
     "execution_count": 73,
     "metadata": {},
     "output_type": "execute_result"
    }
   ],
   "source": [
    "False"
   ]
  },
  {
   "cell_type": "code",
   "execution_count": 75,
   "metadata": {
    "collapsed": false
   },
   "outputs": [
    {
     "name": "stdout",
     "output_type": "stream",
     "text": [
      "obviously i got here\n"
     ]
    }
   ],
   "source": [
    "if 0 > 4:\n",
    "    print(\"thats definitely wrong\")\n",
    "elif 3 > 6:\n",
    "    print(\"still not going here\")\n",
    "else:\n",
    "    print(\"obviously i got here\")"
   ]
  },
  {
   "cell_type": "code",
   "execution_count": 77,
   "metadata": {
    "collapsed": false
   },
   "outputs": [
    {
     "data": {
      "text/plain": [
       "True"
      ]
     },
     "execution_count": 77,
     "metadata": {},
     "output_type": "execute_result"
    }
   ],
   "source": [
    "0 == False"
   ]
  },
  {
   "cell_type": "code",
   "execution_count": 84,
   "metadata": {
    "collapsed": false
   },
   "outputs": [
    {
     "data": {
      "text/plain": [
       "False"
      ]
     },
     "execution_count": 84,
     "metadata": {},
     "output_type": "execute_result"
    }
   ],
   "source": [
    "34 == True"
   ]
  },
  {
   "cell_type": "code",
   "execution_count": 85,
   "metadata": {
    "collapsed": false
   },
   "outputs": [
    {
     "data": {
      "text/plain": [
       "False"
      ]
     },
     "execution_count": 85,
     "metadata": {},
     "output_type": "execute_result"
    }
   ],
   "source": [
    "'' == False"
   ]
  },
  {
   "cell_type": "code",
   "execution_count": 104,
   "metadata": {
    "collapsed": false
   },
   "outputs": [
    {
     "name": "stdout",
     "output_type": "stream",
     "text": [
      "word is true\n",
      "List full of things is true\n",
      "1 is true\n",
      "Negative numbers are true\n"
     ]
    }
   ],
   "source": [
    "if '':\n",
    "    print(\"empty string is true\")\n",
    "    \n",
    "if 'word':\n",
    "    print(\"word is true\")\n",
    "    \n",
    "if []:\n",
    "    print(\"empty list is true\")\n",
    "    \n",
    "if [1, 2, 3, 4]:\n",
    "    print(\"List full of things is true\")\n",
    "    \n",
    "if 0:\n",
    "    print(\"zero is true\")\n",
    "    \n",
    "if 1:\n",
    "    print(\"1 is true\")\n",
    "    \n",
    "if -5:\n",
    "    print(\"Negative numbers are true\")\n",
    "    "
   ]
  },
  {
   "cell_type": "code",
   "execution_count": 106,
   "metadata": {
    "collapsed": false
   },
   "outputs": [
    {
     "data": {
      "text/plain": [
       "True"
      ]
     },
     "execution_count": 106,
     "metadata": {},
     "output_type": "execute_result"
    }
   ],
   "source": [
    "1 == True"
   ]
  },
  {
   "cell_type": "code",
   "execution_count": null,
   "metadata": {
    "collapsed": true
   },
   "outputs": [],
   "source": []
  },
  {
   "cell_type": "code",
   "execution_count": null,
   "metadata": {
    "collapsed": true
   },
   "outputs": [],
   "source": []
  },
  {
   "cell_type": "code",
   "execution_count": null,
   "metadata": {
    "collapsed": true
   },
   "outputs": [],
   "source": []
  },
  {
   "cell_type": "code",
   "execution_count": null,
   "metadata": {
    "collapsed": true
   },
   "outputs": [],
   "source": []
  },
  {
   "cell_type": "markdown",
   "metadata": {},
   "source": [
    "# Functions"
   ]
  },
  {
   "cell_type": "code",
   "execution_count": 107,
   "metadata": {
    "collapsed": true
   },
   "outputs": [],
   "source": [
    "def double(value):\n",
    "    twice_that = 2 * value\n",
    "    print(\" I found {}\".format(twice_that))\n",
    "    \n",
    "    return twice_that\n"
   ]
  },
  {
   "cell_type": "code",
   "execution_count": 108,
   "metadata": {
    "collapsed": false
   },
   "outputs": [
    {
     "name": "stdout",
     "output_type": "stream",
     "text": [
      " I found 8\n"
     ]
    },
    {
     "data": {
      "text/plain": [
       "8"
      ]
     },
     "execution_count": 108,
     "metadata": {},
     "output_type": "execute_result"
    }
   ],
   "source": [
    "double(4)"
   ]
  },
  {
   "cell_type": "markdown",
   "metadata": {},
   "source": [
    "### Write a function to count the occurances of each letter in a string:\n",
    "\n",
    "1.  This should take as input a string of any length\n",
    "2.  it should create a dictionary where each key is a letter and each value is the count in that string.\n",
    "3.  it should return that dictionary.\n",
    "\n",
    "The output dictionary does not have to contain entries for non-existent letters."
   ]
  },
  {
   "cell_type": "code",
   "execution_count": 110,
   "metadata": {
    "collapsed": true
   },
   "outputs": [],
   "source": [
    "def letter_counter(message):\n",
    "    #-- start with an empty dictionary\n",
    "    frequencies = {}\n",
    "    \n",
    "    #-- fill in here\n",
    "    \n",
    "    return frequencies"
   ]
  },
  {
   "cell_type": "code",
   "execution_count": 113,
   "metadata": {
    "collapsed": true
   },
   "outputs": [],
   "source": [
    "import string"
   ]
  },
  {
   "cell_type": "code",
   "execution_count": 130,
   "metadata": {
    "collapsed": false
   },
   "outputs": [],
   "source": [
    "def letter_counter(message):\n",
    "    \"\"\" Count the frequencies of each alphabet letter in the message\n",
    "    \n",
    "    Non alpha character such as punctuation are not allow and will\n",
    "    raise an arror.\n",
    "    \n",
    "    Parameters\n",
    "    ----------\n",
    "    message : str\n",
    "        input message to count letter freq.\n",
    "        \n",
    "    Return\n",
    "    ------\n",
    "    frequencies : dict\n",
    "        all collected frequencies.\n",
    "        \n",
    "    \"\"\"\n",
    "    \n",
    "    if type(message) != str:\n",
    "        raise ValueError(\"I require a string as input, found {}\".format(type(message)))\n",
    "    \n",
    "    \n",
    "    #-- start a dictionary with the entire alphabet, defaulted to a \n",
    "    #-- count of 0\n",
    "    frequencies = dict.fromkeys(string.ascii_lowercase,0)\n",
    "    \n",
    "    #-- casting it all to lower case\n",
    "    ##message=message.lower()\n",
    "    \n",
    "    for char in message:\n",
    "        if char not in string.ascii_lowercase:\n",
    "            raise ValueError(\"non-ascii character found: {}\".format(char))\n",
    "            \n",
    "        frequencies[char] += 1\n",
    "\n",
    "    #-- loop over all ascii lowercase letters\n",
    "    for letter in string.ascii_lowercase:\n",
    "    \n",
    "        #-- remove from dict those that aren't there\n",
    "        if frequencies[letter] == 0:\n",
    "            frequencies.pop(letter)\n",
    "        \n",
    "    return frequencies"
   ]
  },
  {
   "cell_type": "code",
   "execution_count": 126,
   "metadata": {
    "collapsed": false
   },
   "outputs": [
    {
     "ename": "ValueError",
     "evalue": "I require a string as input, found <class 'list'>",
     "output_type": "error",
     "traceback": [
      "\u001b[1;31m---------------------------------------------------------------------------\u001b[0m",
      "\u001b[1;31mValueError\u001b[0m                                Traceback (most recent call last)",
      "\u001b[1;32m<ipython-input-126-8350d7781f7d>\u001b[0m in \u001b[0;36m<module>\u001b[1;34m()\u001b[0m\n\u001b[1;32m----> 1\u001b[1;33m \u001b[0mletter_counter\u001b[0m\u001b[1;33m(\u001b[0m\u001b[1;33m[\u001b[0m\u001b[1;36m1\u001b[0m\u001b[1;33m,\u001b[0m \u001b[1;36m2\u001b[0m\u001b[1;33m,\u001b[0m \u001b[1;36m3\u001b[0m\u001b[1;33m,\u001b[0m \u001b[1;36m4\u001b[0m\u001b[1;33m,\u001b[0m \u001b[1;36m5\u001b[0m\u001b[1;33m]\u001b[0m\u001b[1;33m)\u001b[0m\u001b[1;33m\u001b[0m\u001b[0m\n\u001b[0m",
      "\u001b[1;32m<ipython-input-125-5cdbbc73ddeb>\u001b[0m in \u001b[0;36mletter_counter\u001b[1;34m(message)\u001b[0m\n\u001b[0;32m      2\u001b[0m \u001b[1;33m\u001b[0m\u001b[0m\n\u001b[0;32m      3\u001b[0m     \u001b[1;32mif\u001b[0m \u001b[0mtype\u001b[0m\u001b[1;33m(\u001b[0m\u001b[0mmessage\u001b[0m\u001b[1;33m)\u001b[0m \u001b[1;33m!=\u001b[0m \u001b[0mstr\u001b[0m\u001b[1;33m:\u001b[0m\u001b[1;33m\u001b[0m\u001b[0m\n\u001b[1;32m----> 4\u001b[1;33m         \u001b[1;32mraise\u001b[0m \u001b[0mValueError\u001b[0m\u001b[1;33m(\u001b[0m\u001b[1;34m\"I require a string as input, found {}\"\u001b[0m\u001b[1;33m.\u001b[0m\u001b[0mformat\u001b[0m\u001b[1;33m(\u001b[0m\u001b[0mtype\u001b[0m\u001b[1;33m(\u001b[0m\u001b[0mmessage\u001b[0m\u001b[1;33m)\u001b[0m\u001b[1;33m)\u001b[0m\u001b[1;33m)\u001b[0m\u001b[1;33m\u001b[0m\u001b[0m\n\u001b[0m\u001b[0;32m      5\u001b[0m \u001b[1;33m\u001b[0m\u001b[0m\n\u001b[0;32m      6\u001b[0m \u001b[1;33m\u001b[0m\u001b[0m\n",
      "\u001b[1;31mValueError\u001b[0m: I require a string as input, found <class 'list'>"
     ]
    }
   ],
   "source": [
    "letter_counter([1, 2, 3, 4, 5])"
   ]
  },
  {
   "cell_type": "code",
   "execution_count": 131,
   "metadata": {
    "collapsed": false
   },
   "outputs": [
    {
     "name": "stdout",
     "output_type": "stream",
     "text": [
      "Help on function letter_counter in module __main__:\n",
      "\n",
      "letter_counter(message)\n",
      "    Count the frequencies of each alphabet letter in the message\n",
      "    \n",
      "    Non alpha character such as punctuation are not allow and will\n",
      "    raise an arror.\n",
      "    \n",
      "    Parameters\n",
      "    ----------\n",
      "    message : str\n",
      "        input message to count letter freq.\n",
      "        \n",
      "    Return\n",
      "    ------\n",
      "    frequencies : dict\n",
      "        all collected frequencies.\n",
      "\n"
     ]
    }
   ],
   "source": [
    "help(letter_counter)"
   ]
  },
  {
   "cell_type": "code",
   "execution_count": 133,
   "metadata": {
    "collapsed": true
   },
   "outputs": [],
   "source": [
    "def letter_counter(message):\n",
    "           \n",
    "    frequencies = {}\n",
    "         \n",
    "    letter_set = set(message)\n",
    "                 \n",
    "    for item in letter_set:        \n",
    "        if item.isalpha():            \n",
    "            frequencies[item] = message.count(item)        \n",
    "                 \n",
    "    return frequencies"
   ]
  },
  {
   "cell_type": "markdown",
   "metadata": {},
   "source": [
    "'my message'.count('m')"
   ]
  },
  {
   "cell_type": "code",
   "execution_count": 134,
   "metadata": {
    "collapsed": false
   },
   "outputs": [
    {
     "data": {
      "text/plain": [
       "2"
      ]
     },
     "execution_count": 134,
     "metadata": {},
     "output_type": "execute_result"
    }
   ],
   "source": [
    "'my_message'.count('m')"
   ]
  },
  {
   "cell_type": "code",
   "execution_count": 146,
   "metadata": {
    "collapsed": false
   },
   "outputs": [],
   "source": [
    "def letter_count(sentence):\n",
    "    \n",
    "    sentence = sentence.lower()\n",
    "    \n",
    "    count_dict = {}\n",
    "    alphabet = list(string.ascii_lowercase)    \n",
    "    \n",
    "    for letter in alphabet:\n",
    "        count = 0\n",
    "        for character in sentence:\n",
    "            if character == \" \":\n",
    "                continue\n",
    "            elif character not in alphabet:\n",
    "                print('Non-alphabet character found: {}'.format(character))\n",
    "                sentence = sentence.replace(character, \"\")\n",
    "                continue\n",
    "                \n",
    "            if character.lower() == letter:\n",
    "                count += 1\n",
    "            \n",
    "                count_dict[letter] = count\n",
    "    \n",
    "    return count_dict"
   ]
  },
  {
   "cell_type": "code",
   "execution_count": 148,
   "metadata": {
    "collapsed": true
   },
   "outputs": [],
   "source": [
    "def letter_counter(message):\n",
    "    frequencies = {}\n",
    "    \n",
    "    for character in message:\n",
    "        \n",
    "        if not character.isalpha():\n",
    "            continue\n",
    "        \n",
    "        if not character in frequencies:\n",
    "            frequencies[character] = 1\n",
    "        else:\n",
    "            frequencies[character] += 1\n",
    "            \n",
    "    return frequencies"
   ]
  },
  {
   "cell_type": "markdown",
   "metadata": {},
   "source": [
    "one_val"
   ]
  },
  {
   "cell_type": "code",
   "execution_count": null,
   "metadata": {
    "collapsed": true
   },
   "outputs": [],
   "source": []
  }
 ],
 "metadata": {
  "kernelspec": {
   "display_name": "Python [Root]",
   "language": "python",
   "name": "Python [Root]"
  },
  "language_info": {
   "codemirror_mode": {
    "name": "ipython",
    "version": 3
   },
   "file_extension": ".py",
   "mimetype": "text/x-python",
   "name": "python",
   "nbconvert_exporter": "python",
   "pygments_lexer": "ipython3",
   "version": "3.5.2"
  }
 },
 "nbformat": 4,
 "nbformat_minor": 0
}
